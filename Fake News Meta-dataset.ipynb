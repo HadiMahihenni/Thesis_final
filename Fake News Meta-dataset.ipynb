{
 "cells": [
  {
   "cell_type": "code",
   "execution_count": 11,
   "metadata": {},
   "outputs": [],
   "source": [
    "import nltk\n",
    "from nltk.sentiment.vader import SentimentIntensityAnalyzer\n",
    "import numpy as np\n",
    "import pandas as pd"
   ]
  },
  {
   "cell_type": "markdown",
   "metadata": {},
   "source": [
    "# Kaggle"
   ]
  },
  {
   "cell_type": "code",
   "execution_count": 34,
   "metadata": {},
   "outputs": [
    {
     "data": {
      "text/html": [
       "<div>\n",
       "<style scoped>\n",
       "    .dataframe tbody tr th:only-of-type {\n",
       "        vertical-align: middle;\n",
       "    }\n",
       "\n",
       "    .dataframe tbody tr th {\n",
       "        vertical-align: top;\n",
       "    }\n",
       "\n",
       "    .dataframe thead th {\n",
       "        text-align: right;\n",
       "    }\n",
       "</style>\n",
       "<table border=\"1\" class=\"dataframe\">\n",
       "  <thead>\n",
       "    <tr style=\"text-align: right;\">\n",
       "      <th></th>\n",
       "      <th>doc_id</th>\n",
       "      <th>title</th>\n",
       "      <th>mainText</th>\n",
       "      <th>veracity</th>\n",
       "    </tr>\n",
       "  </thead>\n",
       "  <tbody>\n",
       "    <tr>\n",
       "      <th>0</th>\n",
       "      <td>0</td>\n",
       "      <td>#2816: Clinton Pride’s 8(a) Pig Farm Bridge – ...</td>\n",
       "      <td>Print They should pay all the back all the mon...</td>\n",
       "      <td>False</td>\n",
       "    </tr>\n",
       "    <tr>\n",
       "      <th>1</th>\n",
       "      <td>1</td>\n",
       "      <td>The Mandela Effect was made by one overlooked ...</td>\n",
       "      <td>21st Century Wire says… As western media outle...</td>\n",
       "      <td>False</td>\n",
       "    </tr>\n",
       "    <tr>\n",
       "      <th>2</th>\n",
       "      <td>2</td>\n",
       "      <td>Fearing Election Day Trouble, Some US Schools ...</td>\n",
       "      <td>United States Marine Field McConnell  Plum Cit...</td>\n",
       "      <td>False</td>\n",
       "    </tr>\n",
       "    <tr>\n",
       "      <th>3</th>\n",
       "      <td>3</td>\n",
       "      <td>Minnesota Somali Groups Join to Speak with One...</td>\n",
       "      <td>So ,you have Rothschild banksters and British ...</td>\n",
       "      <td>False</td>\n",
       "    </tr>\n",
       "    <tr>\n",
       "      <th>4</th>\n",
       "      <td>4</td>\n",
       "      <td>Gambia Joins South Africa and Burundi in Exodu...</td>\n",
       "      <td>Here is the problem . The USA constitution sta...</td>\n",
       "      <td>False</td>\n",
       "    </tr>\n",
       "  </tbody>\n",
       "</table>\n",
       "</div>"
      ],
      "text/plain": [
       "   doc_id                                              title  \\\n",
       "0       0  #2816: Clinton Pride’s 8(a) Pig Farm Bridge – ...   \n",
       "1       1  The Mandela Effect was made by one overlooked ...   \n",
       "2       2  Fearing Election Day Trouble, Some US Schools ...   \n",
       "3       3  Minnesota Somali Groups Join to Speak with One...   \n",
       "4       4  Gambia Joins South Africa and Burundi in Exodu...   \n",
       "\n",
       "                                            mainText  veracity  \n",
       "0  Print They should pay all the back all the mon...     False  \n",
       "1  21st Century Wire says… As western media outle...     False  \n",
       "2  United States Marine Field McConnell  Plum Cit...     False  \n",
       "3  So ,you have Rothschild banksters and British ...     False  \n",
       "4  Here is the problem . The USA constitution sta...     False  "
      ]
     },
     "execution_count": 34,
     "metadata": {},
     "output_type": "execute_result"
    }
   ],
   "source": [
    "df = pd.read_csv('Kaggle.csv')\n",
    "df.head()"
   ]
  },
  {
   "cell_type": "markdown",
   "metadata": {},
   "source": [
    "# Snopes"
   ]
  },
  {
   "cell_type": "code",
   "execution_count": 35,
   "metadata": {},
   "outputs": [
    {
     "data": {
      "text/html": [
       "<div>\n",
       "<style scoped>\n",
       "    .dataframe tbody tr th:only-of-type {\n",
       "        vertical-align: middle;\n",
       "    }\n",
       "\n",
       "    .dataframe tbody tr th {\n",
       "        vertical-align: top;\n",
       "    }\n",
       "\n",
       "    .dataframe thead th {\n",
       "        text-align: right;\n",
       "    }\n",
       "</style>\n",
       "<table border=\"1\" class=\"dataframe\">\n",
       "  <thead>\n",
       "    <tr style=\"text-align: right;\">\n",
       "      <th></th>\n",
       "      <th>doc_id</th>\n",
       "      <th>title</th>\n",
       "      <th>mainText</th>\n",
       "      <th>veracity</th>\n",
       "    </tr>\n",
       "  </thead>\n",
       "  <tbody>\n",
       "    <tr>\n",
       "      <th>0</th>\n",
       "      <td>1</td>\n",
       "      <td>Donald Trump Called President Obama a ‘Lying N...</td>\n",
       "      <td>It is hardly a secret that Republican presiden...</td>\n",
       "      <td>False</td>\n",
       "    </tr>\n",
       "    <tr>\n",
       "      <th>1</th>\n",
       "      <td>2</td>\n",
       "      <td>What If Only Taxpayers Voted?\\n\\n</td>\n",
       "      <td>On 28 August 2016, the web site The Burning Pl...</td>\n",
       "      <td>False</td>\n",
       "    </tr>\n",
       "    <tr>\n",
       "      <th>2</th>\n",
       "      <td>3</td>\n",
       "      <td>Empire State Building Lit Green on 9/11 for Mu...</td>\n",
       "      <td>In September 2016, several online articles (in...</td>\n",
       "      <td>False</td>\n",
       "    </tr>\n",
       "    <tr>\n",
       "      <th>3</th>\n",
       "      <td>4</td>\n",
       "      <td>Did Obama Call Americans ‘Lazy’ in an Overseas...</td>\n",
       "      <td>Barack Obama became the first sitting United S...</td>\n",
       "      <td>False</td>\n",
       "    </tr>\n",
       "    <tr>\n",
       "      <th>4</th>\n",
       "      <td>5</td>\n",
       "      <td>Ivanka Trump’s ‘Lap Dance’ with Donald\\n</td>\n",
       "      <td>In September 2016, a photograph purportedly sh...</td>\n",
       "      <td>False</td>\n",
       "    </tr>\n",
       "  </tbody>\n",
       "</table>\n",
       "</div>"
      ],
      "text/plain": [
       "   doc_id                                              title  \\\n",
       "0       1  Donald Trump Called President Obama a ‘Lying N...   \n",
       "1       2                  What If Only Taxpayers Voted?\\n\\n   \n",
       "2       3  Empire State Building Lit Green on 9/11 for Mu...   \n",
       "3       4  Did Obama Call Americans ‘Lazy’ in an Overseas...   \n",
       "4       5           Ivanka Trump’s ‘Lap Dance’ with Donald\\n   \n",
       "\n",
       "                                            mainText  veracity  \n",
       "0  It is hardly a secret that Republican presiden...     False  \n",
       "1  On 28 August 2016, the web site The Burning Pl...     False  \n",
       "2  In September 2016, several online articles (in...     False  \n",
       "3  Barack Obama became the first sitting United S...     False  \n",
       "4  In September 2016, a photograph purportedly sh...     False  "
      ]
     },
     "execution_count": 35,
     "metadata": {},
     "output_type": "execute_result"
    }
   ],
   "source": [
    "df_s = pd.read_csv('Snopes/New_1.csv')\n",
    "df_s = df_s[['doc_id','title','mainText','veracity']]\n",
    "df_s.head()"
   ]
  },
  {
   "cell_type": "code",
   "execution_count": 36,
   "metadata": {},
   "outputs": [
    {
     "data": {
      "text/html": [
       "<div>\n",
       "<style scoped>\n",
       "    .dataframe tbody tr th:only-of-type {\n",
       "        vertical-align: middle;\n",
       "    }\n",
       "\n",
       "    .dataframe tbody tr th {\n",
       "        vertical-align: top;\n",
       "    }\n",
       "\n",
       "    .dataframe thead th {\n",
       "        text-align: right;\n",
       "    }\n",
       "</style>\n",
       "<table border=\"1\" class=\"dataframe\">\n",
       "  <thead>\n",
       "    <tr style=\"text-align: right;\">\n",
       "      <th></th>\n",
       "      <th>doc_id</th>\n",
       "      <th>title</th>\n",
       "      <th>mainText</th>\n",
       "      <th>veracity</th>\n",
       "    </tr>\n",
       "  </thead>\n",
       "  <tbody>\n",
       "    <tr>\n",
       "      <th>0</th>\n",
       "      <td>0</td>\n",
       "      <td>#2816: Clinton Pride’s 8(a) Pig Farm Bridge – ...</td>\n",
       "      <td>Print They should pay all the back all the mon...</td>\n",
       "      <td>False</td>\n",
       "    </tr>\n",
       "    <tr>\n",
       "      <th>1</th>\n",
       "      <td>1</td>\n",
       "      <td>The Mandela Effect was made by one overlooked ...</td>\n",
       "      <td>21st Century Wire says… As western media outle...</td>\n",
       "      <td>False</td>\n",
       "    </tr>\n",
       "    <tr>\n",
       "      <th>2</th>\n",
       "      <td>2</td>\n",
       "      <td>Fearing Election Day Trouble, Some US Schools ...</td>\n",
       "      <td>United States Marine Field McConnell  Plum Cit...</td>\n",
       "      <td>False</td>\n",
       "    </tr>\n",
       "    <tr>\n",
       "      <th>3</th>\n",
       "      <td>3</td>\n",
       "      <td>Minnesota Somali Groups Join to Speak with One...</td>\n",
       "      <td>So ,you have Rothschild banksters and British ...</td>\n",
       "      <td>False</td>\n",
       "    </tr>\n",
       "    <tr>\n",
       "      <th>4</th>\n",
       "      <td>4</td>\n",
       "      <td>Gambia Joins South Africa and Burundi in Exodu...</td>\n",
       "      <td>Here is the problem . The USA constitution sta...</td>\n",
       "      <td>False</td>\n",
       "    </tr>\n",
       "  </tbody>\n",
       "</table>\n",
       "</div>"
      ],
      "text/plain": [
       "   doc_id                                              title  \\\n",
       "0       0  #2816: Clinton Pride’s 8(a) Pig Farm Bridge – ...   \n",
       "1       1  The Mandela Effect was made by one overlooked ...   \n",
       "2       2  Fearing Election Day Trouble, Some US Schools ...   \n",
       "3       3  Minnesota Somali Groups Join to Speak with One...   \n",
       "4       4  Gambia Joins South Africa and Burundi in Exodu...   \n",
       "\n",
       "                                            mainText  veracity  \n",
       "0  Print They should pay all the back all the mon...     False  \n",
       "1  21st Century Wire says… As western media outle...     False  \n",
       "2  United States Marine Field McConnell  Plum Cit...     False  \n",
       "3  So ,you have Rothschild banksters and British ...     False  \n",
       "4  Here is the problem . The USA constitution sta...     False  "
      ]
     },
     "execution_count": 36,
     "metadata": {},
     "output_type": "execute_result"
    }
   ],
   "source": [
    "frames = [df, df_s]\n",
    "df = pd.concat(frames, ignore_index=True)\n",
    "df[\"doc_id\"] = df.index\n",
    "df.head()"
   ]
  },
  {
   "cell_type": "code",
   "execution_count": 37,
   "metadata": {},
   "outputs": [
    {
     "data": {
      "text/plain": [
       "301"
      ]
     },
     "execution_count": 37,
     "metadata": {},
     "output_type": "execute_result"
    }
   ],
   "source": [
    "len(df)"
   ]
  },
  {
   "cell_type": "markdown",
   "metadata": {},
   "source": [
    "# BuzzFeed"
   ]
  },
  {
   "cell_type": "code",
   "execution_count": 38,
   "metadata": {},
   "outputs": [
    {
     "data": {
      "text/plain": [
       "1627"
      ]
     },
     "execution_count": 38,
     "metadata": {},
     "output_type": "execute_result"
    }
   ],
   "source": [
    "df_new = pd.read_csv('BuzzFeed.csv')\n",
    "df_new = df_new[['doc_id','title','mainText','veracity']]\n",
    "len(df_new)"
   ]
  },
  {
   "cell_type": "code",
   "execution_count": 39,
   "metadata": {},
   "outputs": [
    {
     "data": {
      "text/html": [
       "<div>\n",
       "<style scoped>\n",
       "    .dataframe tbody tr th:only-of-type {\n",
       "        vertical-align: middle;\n",
       "    }\n",
       "\n",
       "    .dataframe tbody tr th {\n",
       "        vertical-align: top;\n",
       "    }\n",
       "\n",
       "    .dataframe thead th {\n",
       "        text-align: right;\n",
       "    }\n",
       "</style>\n",
       "<table border=\"1\" class=\"dataframe\">\n",
       "  <thead>\n",
       "    <tr style=\"text-align: right;\">\n",
       "      <th></th>\n",
       "      <th>doc_id</th>\n",
       "      <th>title</th>\n",
       "      <th>mainText</th>\n",
       "      <th>veracity</th>\n",
       "    </tr>\n",
       "  </thead>\n",
       "  <tbody>\n",
       "    <tr>\n",
       "      <th>0</th>\n",
       "      <td>0</td>\n",
       "      <td>#2816: Clinton Pride’s 8(a) Pig Farm Bridge – ...</td>\n",
       "      <td>Print They should pay all the back all the mon...</td>\n",
       "      <td>False</td>\n",
       "    </tr>\n",
       "    <tr>\n",
       "      <th>1</th>\n",
       "      <td>1</td>\n",
       "      <td>The Mandela Effect was made by one overlooked ...</td>\n",
       "      <td>21st Century Wire says… As western media outle...</td>\n",
       "      <td>False</td>\n",
       "    </tr>\n",
       "    <tr>\n",
       "      <th>2</th>\n",
       "      <td>2</td>\n",
       "      <td>Fearing Election Day Trouble, Some US Schools ...</td>\n",
       "      <td>United States Marine Field McConnell  Plum Cit...</td>\n",
       "      <td>False</td>\n",
       "    </tr>\n",
       "    <tr>\n",
       "      <th>3</th>\n",
       "      <td>3</td>\n",
       "      <td>Minnesota Somali Groups Join to Speak with One...</td>\n",
       "      <td>So ,you have Rothschild banksters and British ...</td>\n",
       "      <td>False</td>\n",
       "    </tr>\n",
       "    <tr>\n",
       "      <th>4</th>\n",
       "      <td>4</td>\n",
       "      <td>Gambia Joins South Africa and Burundi in Exodu...</td>\n",
       "      <td>Here is the problem . The USA constitution sta...</td>\n",
       "      <td>False</td>\n",
       "    </tr>\n",
       "  </tbody>\n",
       "</table>\n",
       "</div>"
      ],
      "text/plain": [
       "   doc_id                                              title  \\\n",
       "0       0  #2816: Clinton Pride’s 8(a) Pig Farm Bridge – ...   \n",
       "1       1  The Mandela Effect was made by one overlooked ...   \n",
       "2       2  Fearing Election Day Trouble, Some US Schools ...   \n",
       "3       3  Minnesota Somali Groups Join to Speak with One...   \n",
       "4       4  Gambia Joins South Africa and Burundi in Exodu...   \n",
       "\n",
       "                                            mainText veracity  \n",
       "0  Print They should pay all the back all the mon...    False  \n",
       "1  21st Century Wire says… As western media outle...    False  \n",
       "2  United States Marine Field McConnell  Plum Cit...    False  \n",
       "3  So ,you have Rothschild banksters and British ...    False  \n",
       "4  Here is the problem . The USA constitution sta...    False  "
      ]
     },
     "execution_count": 39,
     "metadata": {},
     "output_type": "execute_result"
    }
   ],
   "source": [
    "frames = [df, df_new]\n",
    "df = pd.concat(frames, ignore_index=True)\n",
    "df[\"doc_id\"] = df.index\n",
    "df.head()"
   ]
  },
  {
   "cell_type": "code",
   "execution_count": 40,
   "metadata": {},
   "outputs": [
    {
     "data": {
      "text/plain": [
       "1928"
      ]
     },
     "execution_count": 40,
     "metadata": {},
     "output_type": "execute_result"
    }
   ],
   "source": [
    "len(df)"
   ]
  },
  {
   "cell_type": "markdown",
   "metadata": {},
   "source": [
    "# Horne"
   ]
  },
  {
   "cell_type": "code",
   "execution_count": 41,
   "metadata": {},
   "outputs": [
    {
     "data": {
      "text/plain": [
       "122"
      ]
     },
     "execution_count": 41,
     "metadata": {},
     "output_type": "execute_result"
    }
   ],
   "source": [
    "df_h = pd.read_csv('Horne/Horne.csv')\n",
    "df_h = df_h[['doc_id','title','mainText','veracity']]\n",
    "len(df_h)"
   ]
  },
  {
   "cell_type": "code",
   "execution_count": 42,
   "metadata": {},
   "outputs": [
    {
     "data": {
      "text/html": [
       "<div>\n",
       "<style scoped>\n",
       "    .dataframe tbody tr th:only-of-type {\n",
       "        vertical-align: middle;\n",
       "    }\n",
       "\n",
       "    .dataframe tbody tr th {\n",
       "        vertical-align: top;\n",
       "    }\n",
       "\n",
       "    .dataframe thead th {\n",
       "        text-align: right;\n",
       "    }\n",
       "</style>\n",
       "<table border=\"1\" class=\"dataframe\">\n",
       "  <thead>\n",
       "    <tr style=\"text-align: right;\">\n",
       "      <th></th>\n",
       "      <th>doc_id</th>\n",
       "      <th>title</th>\n",
       "      <th>mainText</th>\n",
       "      <th>veracity</th>\n",
       "    </tr>\n",
       "  </thead>\n",
       "  <tbody>\n",
       "    <tr>\n",
       "      <th>0</th>\n",
       "      <td>0</td>\n",
       "      <td>#2816: Clinton Pride’s 8(a) Pig Farm Bridge – ...</td>\n",
       "      <td>Print They should pay all the back all the mon...</td>\n",
       "      <td>False</td>\n",
       "    </tr>\n",
       "    <tr>\n",
       "      <th>1</th>\n",
       "      <td>1</td>\n",
       "      <td>The Mandela Effect was made by one overlooked ...</td>\n",
       "      <td>21st Century Wire says… As western media outle...</td>\n",
       "      <td>False</td>\n",
       "    </tr>\n",
       "    <tr>\n",
       "      <th>2</th>\n",
       "      <td>2</td>\n",
       "      <td>Fearing Election Day Trouble, Some US Schools ...</td>\n",
       "      <td>United States Marine Field McConnell  Plum Cit...</td>\n",
       "      <td>False</td>\n",
       "    </tr>\n",
       "    <tr>\n",
       "      <th>3</th>\n",
       "      <td>3</td>\n",
       "      <td>Minnesota Somali Groups Join to Speak with One...</td>\n",
       "      <td>So ,you have Rothschild banksters and British ...</td>\n",
       "      <td>False</td>\n",
       "    </tr>\n",
       "    <tr>\n",
       "      <th>4</th>\n",
       "      <td>4</td>\n",
       "      <td>Gambia Joins South Africa and Burundi in Exodu...</td>\n",
       "      <td>Here is the problem . The USA constitution sta...</td>\n",
       "      <td>False</td>\n",
       "    </tr>\n",
       "  </tbody>\n",
       "</table>\n",
       "</div>"
      ],
      "text/plain": [
       "   doc_id                                              title  \\\n",
       "0       0  #2816: Clinton Pride’s 8(a) Pig Farm Bridge – ...   \n",
       "1       1  The Mandela Effect was made by one overlooked ...   \n",
       "2       2  Fearing Election Day Trouble, Some US Schools ...   \n",
       "3       3  Minnesota Somali Groups Join to Speak with One...   \n",
       "4       4  Gambia Joins South Africa and Burundi in Exodu...   \n",
       "\n",
       "                                            mainText veracity  \n",
       "0  Print They should pay all the back all the mon...    False  \n",
       "1  21st Century Wire says… As western media outle...    False  \n",
       "2  United States Marine Field McConnell  Plum Cit...    False  \n",
       "3  So ,you have Rothschild banksters and British ...    False  \n",
       "4  Here is the problem . The USA constitution sta...    False  "
      ]
     },
     "execution_count": 42,
     "metadata": {},
     "output_type": "execute_result"
    }
   ],
   "source": [
    "frames = [df, df_h]\n",
    "df = pd.concat(frames, ignore_index=True)\n",
    "df[\"doc_id\"] = df.index\n",
    "df.head()"
   ]
  },
  {
   "cell_type": "code",
   "execution_count": 43,
   "metadata": {},
   "outputs": [
    {
     "data": {
      "text/plain": [
       "2050"
      ]
     },
     "execution_count": 43,
     "metadata": {},
     "output_type": "execute_result"
    }
   ],
   "source": [
    "len(df)"
   ]
  },
  {
   "cell_type": "markdown",
   "metadata": {},
   "source": [
    "# Golbeck"
   ]
  },
  {
   "cell_type": "code",
   "execution_count": 44,
   "metadata": {},
   "outputs": [
    {
     "data": {
      "text/plain": [
       "274"
      ]
     },
     "execution_count": 44,
     "metadata": {},
     "output_type": "execute_result"
    }
   ],
   "source": [
    "df_g = pd.read_csv('Golbeck et. al Fake/Golbeck.csv')\n",
    "df_g = df_g[['doc_id','title','mainText','veracity']]\n",
    "len(df_g)"
   ]
  },
  {
   "cell_type": "code",
   "execution_count": 45,
   "metadata": {},
   "outputs": [
    {
     "data": {
      "text/html": [
       "<div>\n",
       "<style scoped>\n",
       "    .dataframe tbody tr th:only-of-type {\n",
       "        vertical-align: middle;\n",
       "    }\n",
       "\n",
       "    .dataframe tbody tr th {\n",
       "        vertical-align: top;\n",
       "    }\n",
       "\n",
       "    .dataframe thead th {\n",
       "        text-align: right;\n",
       "    }\n",
       "</style>\n",
       "<table border=\"1\" class=\"dataframe\">\n",
       "  <thead>\n",
       "    <tr style=\"text-align: right;\">\n",
       "      <th></th>\n",
       "      <th>doc_id</th>\n",
       "      <th>title</th>\n",
       "      <th>mainText</th>\n",
       "      <th>veracity</th>\n",
       "    </tr>\n",
       "  </thead>\n",
       "  <tbody>\n",
       "    <tr>\n",
       "      <th>0</th>\n",
       "      <td>0</td>\n",
       "      <td>#2816: Clinton Pride’s 8(a) Pig Farm Bridge – ...</td>\n",
       "      <td>Print They should pay all the back all the mon...</td>\n",
       "      <td>False</td>\n",
       "    </tr>\n",
       "    <tr>\n",
       "      <th>1</th>\n",
       "      <td>1</td>\n",
       "      <td>The Mandela Effect was made by one overlooked ...</td>\n",
       "      <td>21st Century Wire says… As western media outle...</td>\n",
       "      <td>False</td>\n",
       "    </tr>\n",
       "    <tr>\n",
       "      <th>2</th>\n",
       "      <td>2</td>\n",
       "      <td>Fearing Election Day Trouble, Some US Schools ...</td>\n",
       "      <td>United States Marine Field McConnell  Plum Cit...</td>\n",
       "      <td>False</td>\n",
       "    </tr>\n",
       "    <tr>\n",
       "      <th>3</th>\n",
       "      <td>3</td>\n",
       "      <td>Minnesota Somali Groups Join to Speak with One...</td>\n",
       "      <td>So ,you have Rothschild banksters and British ...</td>\n",
       "      <td>False</td>\n",
       "    </tr>\n",
       "    <tr>\n",
       "      <th>4</th>\n",
       "      <td>4</td>\n",
       "      <td>Gambia Joins South Africa and Burundi in Exodu...</td>\n",
       "      <td>Here is the problem . The USA constitution sta...</td>\n",
       "      <td>False</td>\n",
       "    </tr>\n",
       "  </tbody>\n",
       "</table>\n",
       "</div>"
      ],
      "text/plain": [
       "   doc_id                                              title  \\\n",
       "0       0  #2816: Clinton Pride’s 8(a) Pig Farm Bridge – ...   \n",
       "1       1  The Mandela Effect was made by one overlooked ...   \n",
       "2       2  Fearing Election Day Trouble, Some US Schools ...   \n",
       "3       3  Minnesota Somali Groups Join to Speak with One...   \n",
       "4       4  Gambia Joins South Africa and Burundi in Exodu...   \n",
       "\n",
       "                                            mainText veracity  \n",
       "0  Print They should pay all the back all the mon...    False  \n",
       "1  21st Century Wire says… As western media outle...    False  \n",
       "2  United States Marine Field McConnell  Plum Cit...    False  \n",
       "3  So ,you have Rothschild banksters and British ...    False  \n",
       "4  Here is the problem . The USA constitution sta...    False  "
      ]
     },
     "execution_count": 45,
     "metadata": {},
     "output_type": "execute_result"
    }
   ],
   "source": [
    "frames = [df, df_g]\n",
    "df = pd.concat(frames, ignore_index=True)\n",
    "df[\"doc_id\"] = df.index\n",
    "df.head()"
   ]
  },
  {
   "cell_type": "code",
   "execution_count": 46,
   "metadata": {},
   "outputs": [
    {
     "data": {
      "text/plain": [
       "2324"
      ]
     },
     "execution_count": 46,
     "metadata": {},
     "output_type": "execute_result"
    }
   ],
   "source": [
    "len(df)"
   ]
  },
  {
   "cell_type": "code",
   "execution_count": 48,
   "metadata": {},
   "outputs": [],
   "source": [
    "# Select all duplicate rows based on one column\n",
    "duplicateRowsDF = df[df.duplicated(['title','mainText'],  keep=False)]\n",
    "df = df.drop_duplicates(subset=['title', 'mainText'], keep ='last')\n"
   ]
  },
  {
   "cell_type": "code",
   "execution_count": null,
   "metadata": {},
   "outputs": [],
   "source": [
    "df.to_csv(\"Fake_news_meta.csv\",index=False)"
   ]
  }
 ],
 "metadata": {
  "kernelspec": {
   "display_name": "Python 3",
   "language": "python",
   "name": "python3"
  },
  "language_info": {
   "codemirror_mode": {
    "name": "ipython",
    "version": 3
   },
   "file_extension": ".py",
   "mimetype": "text/x-python",
   "name": "python",
   "nbconvert_exporter": "python",
   "pygments_lexer": "ipython3",
   "version": "3.6.8"
  }
 },
 "nbformat": 4,
 "nbformat_minor": 2
}
