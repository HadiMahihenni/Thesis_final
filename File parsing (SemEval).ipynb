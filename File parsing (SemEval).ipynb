{
 "cells": [
  {
   "cell_type": "code",
   "execution_count": 1,
   "metadata": {},
   "outputs": [],
   "source": [
    "import xml.etree.ElementTree as ET\n",
    "from bs4 import BeautifulSoup\n",
    "import pandas as pd"
   ]
  },
  {
   "cell_type": "markdown",
   "metadata": {},
   "source": [
    "# Load XML files"
   ]
  },
  {
   "cell_type": "code",
   "execution_count": 2,
   "metadata": {},
   "outputs": [],
   "source": [
    "tree = ET.parse('SemEval2019/articles-training-byarticle-20181122.xml')"
   ]
  },
  {
   "cell_type": "code",
   "execution_count": 3,
   "metadata": {},
   "outputs": [],
   "source": [
    "root = tree.getroot()"
   ]
  },
  {
   "cell_type": "code",
   "execution_count": 7,
   "metadata": {},
   "outputs": [],
   "source": [
    "with open(\"SemEval2019/articles-training-byarticle-20181122.xml\") as fp:\n",
    "    soup = BeautifulSoup(fp, \"xml\")"
   ]
  },
  {
   "cell_type": "markdown",
   "metadata": {},
   "source": [
    "# Parse xml file into a dataframe"
   ]
  },
  {
   "cell_type": "code",
   "execution_count": 8,
   "metadata": {},
   "outputs": [
    {
     "data": {
      "text/html": [
       "<div>\n",
       "<style scoped>\n",
       "    .dataframe tbody tr th:only-of-type {\n",
       "        vertical-align: middle;\n",
       "    }\n",
       "\n",
       "    .dataframe tbody tr th {\n",
       "        vertical-align: top;\n",
       "    }\n",
       "\n",
       "    .dataframe thead th {\n",
       "        text-align: right;\n",
       "    }\n",
       "</style>\n",
       "<table border=\"1\" class=\"dataframe\">\n",
       "  <thead>\n",
       "    <tr style=\"text-align: right;\">\n",
       "      <th></th>\n",
       "      <th>doc_id</th>\n",
       "      <th>mainText</th>\n",
       "    </tr>\n",
       "  </thead>\n",
       "  <tbody>\n",
       "    <tr>\n",
       "      <th>0</th>\n",
       "      <td>0000000</td>\n",
       "      <td>Money ( Image by 401(K) 2013) Permission Detai...</td>\n",
       "    </tr>\n",
       "    <tr>\n",
       "      <th>1</th>\n",
       "      <td>0000001</td>\n",
       "      <td>Donald Trump ran on many braggadocios and larg...</td>\n",
       "    </tr>\n",
       "    <tr>\n",
       "      <th>2</th>\n",
       "      <td>0000002</td>\n",
       "      <td>In response to Joyce Newman’s recent letter ab...</td>\n",
       "    </tr>\n",
       "    <tr>\n",
       "      <th>3</th>\n",
       "      <td>0000003</td>\n",
       "      <td>After Colin Kaepernick rightly chose to kneel ...</td>\n",
       "    </tr>\n",
       "    <tr>\n",
       "      <th>4</th>\n",
       "      <td>0000004</td>\n",
       "      <td>Almost a half-century ago, in 1968, the United...</td>\n",
       "    </tr>\n",
       "  </tbody>\n",
       "</table>\n",
       "</div>"
      ],
      "text/plain": [
       "    doc_id                                           mainText\n",
       "0  0000000  Money ( Image by 401(K) 2013) Permission Detai...\n",
       "1  0000001  Donald Trump ran on many braggadocios and larg...\n",
       "2  0000002  In response to Joyce Newman’s recent letter ab...\n",
       "3  0000003  After Colin Kaepernick rightly chose to kneel ...\n",
       "4  0000004  Almost a half-century ago, in 1968, the United..."
      ]
     },
     "execution_count": 8,
     "metadata": {},
     "output_type": "execute_result"
    }
   ],
   "source": [
    "article = soup.find_all('article')\n",
    "doc_id = []\n",
    "mainText = [] \n",
    "for article in article:\n",
    "    for p in article.find_all('p'):\n",
    "        doc_number = article.get ('id')\n",
    "        content = p.text\n",
    "        doc_id.append(doc_number)\n",
    "        mainText.append(content)\n",
    "data = pd.DataFrame({'doc_id': doc_id, 'mainText': mainText})\n",
    "df = data.groupby('doc_id')['mainText'].apply(' '.join).reset_index()\n",
    "df.head()\n",
    "    \n",
    "    \n",
    "     \n",
    "\n",
    "    \n",
    "    "
   ]
  },
  {
   "cell_type": "code",
   "execution_count": 9,
   "metadata": {
    "scrolled": false
   },
   "outputs": [
    {
     "data": {
      "text/html": [
       "<div>\n",
       "<style scoped>\n",
       "    .dataframe tbody tr th:only-of-type {\n",
       "        vertical-align: middle;\n",
       "    }\n",
       "\n",
       "    .dataframe tbody tr th {\n",
       "        vertical-align: top;\n",
       "    }\n",
       "\n",
       "    .dataframe thead th {\n",
       "        text-align: right;\n",
       "    }\n",
       "</style>\n",
       "<table border=\"1\" class=\"dataframe\">\n",
       "  <thead>\n",
       "    <tr style=\"text-align: right;\">\n",
       "      <th></th>\n",
       "      <th>doc_id</th>\n",
       "      <th>title</th>\n",
       "    </tr>\n",
       "  </thead>\n",
       "  <tbody>\n",
       "    <tr>\n",
       "      <th>0</th>\n",
       "      <td>0000000</td>\n",
       "      <td>Kucinich: Reclaiming the money power</td>\n",
       "    </tr>\n",
       "    <tr>\n",
       "      <th>1</th>\n",
       "      <td>0000001</td>\n",
       "      <td>Trump Just Woke Up &amp; Viciously Attacked Puerto...</td>\n",
       "    </tr>\n",
       "    <tr>\n",
       "      <th>2</th>\n",
       "      <td>0000002</td>\n",
       "      <td>Liberals wailing about gun control, but what a...</td>\n",
       "    </tr>\n",
       "    <tr>\n",
       "      <th>3</th>\n",
       "      <td>0000003</td>\n",
       "      <td>Laremy Tunsil joins NFL players in kneeling du...</td>\n",
       "    </tr>\n",
       "    <tr>\n",
       "      <th>4</th>\n",
       "      <td>0000004</td>\n",
       "      <td>It's 1968 All Over Again</td>\n",
       "    </tr>\n",
       "  </tbody>\n",
       "</table>\n",
       "</div>"
      ],
      "text/plain": [
       "    doc_id                                              title\n",
       "0  0000000               Kucinich: Reclaiming the money power\n",
       "1  0000001  Trump Just Woke Up & Viciously Attacked Puerto...\n",
       "2  0000002  Liberals wailing about gun control, but what a...\n",
       "3  0000003  Laremy Tunsil joins NFL players in kneeling du...\n",
       "4  0000004                           It's 1968 All Over Again"
      ]
     },
     "execution_count": 9,
     "metadata": {},
     "output_type": "execute_result"
    }
   ],
   "source": [
    "doc_id = []\n",
    "mainText = [] \n",
    "title = []\n",
    "author = []\n",
    "portal = []\n",
    "\n",
    "\n",
    "for node in root:\n",
    "    doc_number = node.attrib.get('id')\n",
    "    NewsTitle = node.attrib.get('title')        \n",
    "    doc_id.append(doc_number)\n",
    "    title.append(NewsTitle)\n",
    "    \n",
    "    \n",
    "    \n",
    "data = pd.DataFrame({'doc_id': doc_id, 'title': title})\n",
    "data.head()"
   ]
  },
  {
   "cell_type": "code",
   "execution_count": 14,
   "metadata": {},
   "outputs": [
    {
     "data": {
      "text/html": [
       "<div>\n",
       "<style scoped>\n",
       "    .dataframe tbody tr th:only-of-type {\n",
       "        vertical-align: middle;\n",
       "    }\n",
       "\n",
       "    .dataframe tbody tr th {\n",
       "        vertical-align: top;\n",
       "    }\n",
       "\n",
       "    .dataframe thead th {\n",
       "        text-align: right;\n",
       "    }\n",
       "</style>\n",
       "<table border=\"1\" class=\"dataframe\">\n",
       "  <thead>\n",
       "    <tr style=\"text-align: right;\">\n",
       "      <th></th>\n",
       "      <th>doc_id</th>\n",
       "      <th>title</th>\n",
       "      <th>mainText</th>\n",
       "    </tr>\n",
       "  </thead>\n",
       "  <tbody>\n",
       "    <tr>\n",
       "      <th>0</th>\n",
       "      <td>0000000</td>\n",
       "      <td>Kucinich: Reclaiming the money power</td>\n",
       "      <td>Money ( Image by 401(K) 2013) Permission Detai...</td>\n",
       "    </tr>\n",
       "    <tr>\n",
       "      <th>1</th>\n",
       "      <td>0000001</td>\n",
       "      <td>Trump Just Woke Up &amp; Viciously Attacked Puerto...</td>\n",
       "      <td>Donald Trump ran on many braggadocios and larg...</td>\n",
       "    </tr>\n",
       "    <tr>\n",
       "      <th>2</th>\n",
       "      <td>0000002</td>\n",
       "      <td>Liberals wailing about gun control, but what a...</td>\n",
       "      <td>In response to Joyce Newman’s recent letter ab...</td>\n",
       "    </tr>\n",
       "    <tr>\n",
       "      <th>3</th>\n",
       "      <td>0000003</td>\n",
       "      <td>Laremy Tunsil joins NFL players in kneeling du...</td>\n",
       "      <td>After Colin Kaepernick rightly chose to kneel ...</td>\n",
       "    </tr>\n",
       "    <tr>\n",
       "      <th>4</th>\n",
       "      <td>0000004</td>\n",
       "      <td>It's 1968 All Over Again</td>\n",
       "      <td>Almost a half-century ago, in 1968, the United...</td>\n",
       "    </tr>\n",
       "  </tbody>\n",
       "</table>\n",
       "</div>"
      ],
      "text/plain": [
       "    doc_id                                              title  \\\n",
       "0  0000000               Kucinich: Reclaiming the money power   \n",
       "1  0000001  Trump Just Woke Up & Viciously Attacked Puerto...   \n",
       "2  0000002  Liberals wailing about gun control, but what a...   \n",
       "3  0000003  Laremy Tunsil joins NFL players in kneeling du...   \n",
       "4  0000004                           It's 1968 All Over Again   \n",
       "\n",
       "                                            mainText  \n",
       "0  Money ( Image by 401(K) 2013) Permission Detai...  \n",
       "1  Donald Trump ran on many braggadocios and larg...  \n",
       "2  In response to Joyce Newman’s recent letter ab...  \n",
       "3  After Colin Kaepernick rightly chose to kneel ...  \n",
       "4  Almost a half-century ago, in 1968, the United...  "
      ]
     },
     "execution_count": 14,
     "metadata": {},
     "output_type": "execute_result"
    }
   ],
   "source": [
    "df2= pd.merge(data,df,how='inner',on=['doc_id'])\n",
    "df2.head()\n"
   ]
  },
  {
   "cell_type": "code",
   "execution_count": 26,
   "metadata": {},
   "outputs": [],
   "source": [
    "tree1 = ET.parse('SemEval2019/ground-truth-training-byarticle-20181122.xml')"
   ]
  },
  {
   "cell_type": "code",
   "execution_count": 27,
   "metadata": {},
   "outputs": [],
   "source": [
    "root1 = tree1.getroot()"
   ]
  },
  {
   "cell_type": "code",
   "execution_count": 29,
   "metadata": {},
   "outputs": [
    {
     "data": {
      "text/html": [
       "<div>\n",
       "<style scoped>\n",
       "    .dataframe tbody tr th:only-of-type {\n",
       "        vertical-align: middle;\n",
       "    }\n",
       "\n",
       "    .dataframe tbody tr th {\n",
       "        vertical-align: top;\n",
       "    }\n",
       "\n",
       "    .dataframe thead th {\n",
       "        text-align: right;\n",
       "    }\n",
       "</style>\n",
       "<table border=\"1\" class=\"dataframe\">\n",
       "  <thead>\n",
       "    <tr style=\"text-align: right;\">\n",
       "      <th></th>\n",
       "      <th>doc_id</th>\n",
       "      <th>hyperpartisan</th>\n",
       "    </tr>\n",
       "  </thead>\n",
       "  <tbody>\n",
       "    <tr>\n",
       "      <th>0</th>\n",
       "      <td>0000000</td>\n",
       "      <td>true</td>\n",
       "    </tr>\n",
       "    <tr>\n",
       "      <th>1</th>\n",
       "      <td>0000001</td>\n",
       "      <td>true</td>\n",
       "    </tr>\n",
       "    <tr>\n",
       "      <th>2</th>\n",
       "      <td>0000002</td>\n",
       "      <td>true</td>\n",
       "    </tr>\n",
       "    <tr>\n",
       "      <th>3</th>\n",
       "      <td>0000003</td>\n",
       "      <td>true</td>\n",
       "    </tr>\n",
       "    <tr>\n",
       "      <th>4</th>\n",
       "      <td>0000004</td>\n",
       "      <td>false</td>\n",
       "    </tr>\n",
       "  </tbody>\n",
       "</table>\n",
       "</div>"
      ],
      "text/plain": [
       "    doc_id hyperpartisan\n",
       "0  0000000          true\n",
       "1  0000001          true\n",
       "2  0000002          true\n",
       "3  0000003          true\n",
       "4  0000004         false"
      ]
     },
     "execution_count": 29,
     "metadata": {},
     "output_type": "execute_result"
    }
   ],
   "source": [
    "doc_id = []\n",
    "hyperpartisan = [] \n",
    "\n",
    "\n",
    "\n",
    "for node in root1:\n",
    "    doc_number = node.attrib.get('id')\n",
    "    hyper = node.attrib.get('hyperpartisan')        \n",
    "    doc_id.append(doc_number)\n",
    "    hyperpartisan.append(hyper)\n",
    "    \n",
    "    \n",
    "    \n",
    "data1 = pd.DataFrame({'doc_id': doc_id, 'hyperpartisan': hyperpartisan})\n",
    "data1.head()"
   ]
  },
  {
   "cell_type": "code",
   "execution_count": 30,
   "metadata": {},
   "outputs": [
    {
     "data": {
      "text/html": [
       "<div>\n",
       "<style scoped>\n",
       "    .dataframe tbody tr th:only-of-type {\n",
       "        vertical-align: middle;\n",
       "    }\n",
       "\n",
       "    .dataframe tbody tr th {\n",
       "        vertical-align: top;\n",
       "    }\n",
       "\n",
       "    .dataframe thead th {\n",
       "        text-align: right;\n",
       "    }\n",
       "</style>\n",
       "<table border=\"1\" class=\"dataframe\">\n",
       "  <thead>\n",
       "    <tr style=\"text-align: right;\">\n",
       "      <th></th>\n",
       "      <th>doc_id</th>\n",
       "      <th>title</th>\n",
       "      <th>mainText</th>\n",
       "      <th>hyperpartisan</th>\n",
       "    </tr>\n",
       "  </thead>\n",
       "  <tbody>\n",
       "    <tr>\n",
       "      <th>0</th>\n",
       "      <td>0000000</td>\n",
       "      <td>Kucinich: Reclaiming the money power</td>\n",
       "      <td>Money ( Image by 401(K) 2013) Permission Detai...</td>\n",
       "      <td>true</td>\n",
       "    </tr>\n",
       "    <tr>\n",
       "      <th>1</th>\n",
       "      <td>0000001</td>\n",
       "      <td>Trump Just Woke Up &amp; Viciously Attacked Puerto...</td>\n",
       "      <td>Donald Trump ran on many braggadocios and larg...</td>\n",
       "      <td>true</td>\n",
       "    </tr>\n",
       "    <tr>\n",
       "      <th>2</th>\n",
       "      <td>0000002</td>\n",
       "      <td>Liberals wailing about gun control, but what a...</td>\n",
       "      <td>In response to Joyce Newman’s recent letter ab...</td>\n",
       "      <td>true</td>\n",
       "    </tr>\n",
       "    <tr>\n",
       "      <th>3</th>\n",
       "      <td>0000003</td>\n",
       "      <td>Laremy Tunsil joins NFL players in kneeling du...</td>\n",
       "      <td>After Colin Kaepernick rightly chose to kneel ...</td>\n",
       "      <td>true</td>\n",
       "    </tr>\n",
       "    <tr>\n",
       "      <th>4</th>\n",
       "      <td>0000004</td>\n",
       "      <td>It's 1968 All Over Again</td>\n",
       "      <td>Almost a half-century ago, in 1968, the United...</td>\n",
       "      <td>false</td>\n",
       "    </tr>\n",
       "  </tbody>\n",
       "</table>\n",
       "</div>"
      ],
      "text/plain": [
       "    doc_id                                              title  \\\n",
       "0  0000000               Kucinich: Reclaiming the money power   \n",
       "1  0000001  Trump Just Woke Up & Viciously Attacked Puerto...   \n",
       "2  0000002  Liberals wailing about gun control, but what a...   \n",
       "3  0000003  Laremy Tunsil joins NFL players in kneeling du...   \n",
       "4  0000004                           It's 1968 All Over Again   \n",
       "\n",
       "                                            mainText hyperpartisan  \n",
       "0  Money ( Image by 401(K) 2013) Permission Detai...          true  \n",
       "1  Donald Trump ran on many braggadocios and larg...          true  \n",
       "2  In response to Joyce Newman’s recent letter ab...          true  \n",
       "3  After Colin Kaepernick rightly chose to kneel ...          true  \n",
       "4  Almost a half-century ago, in 1968, the United...         false  "
      ]
     },
     "execution_count": 30,
     "metadata": {},
     "output_type": "execute_result"
    }
   ],
   "source": [
    "df3= pd.merge(df2,data1,how='inner',on=['doc_id'])\n",
    "df3.head()"
   ]
  },
  {
   "cell_type": "markdown",
   "metadata": {},
   "source": [
    "# Export dataframe as csv"
   ]
  },
  {
   "cell_type": "code",
   "execution_count": 31,
   "metadata": {},
   "outputs": [],
   "source": [
    "df3.to_csv(\"SemEval.csv\",index=False)\n"
   ]
  },
  {
   "cell_type": "code",
   "execution_count": null,
   "metadata": {},
   "outputs": [],
   "source": []
  }
 ],
 "metadata": {
  "kernelspec": {
   "display_name": "Python 3",
   "language": "python",
   "name": "python3"
  },
  "language_info": {
   "codemirror_mode": {
    "name": "ipython",
    "version": 3
   },
   "file_extension": ".py",
   "mimetype": "text/x-python",
   "name": "python",
   "nbconvert_exporter": "python",
   "pygments_lexer": "ipython3",
   "version": "3.6.8"
  }
 },
 "nbformat": 4,
 "nbformat_minor": 2
}
