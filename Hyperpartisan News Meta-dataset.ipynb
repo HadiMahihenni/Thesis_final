{
 "cells": [
  {
   "cell_type": "code",
   "execution_count": 1,
   "metadata": {},
   "outputs": [],
   "source": [
    "import nltk\n",
    "from nltk.sentiment.vader import SentimentIntensityAnalyzer\n",
    "import numpy as np\n",
    "import pandas as pd"
   ]
  },
  {
   "cell_type": "markdown",
   "metadata": {},
   "source": [
    "# BuzzFeed"
   ]
  },
  {
   "cell_type": "code",
   "execution_count": 5,
   "metadata": {},
   "outputs": [
    {
     "data": {
      "text/plain": [
       "1627"
      ]
     },
     "execution_count": 5,
     "metadata": {},
     "output_type": "execute_result"
    }
   ],
   "source": [
    "df = pd.read_csv('BuzzFeed.csv')\n",
    "df = df[['doc_id','title','mainText','orientation']]\n",
    "len(df)"
   ]
  },
  {
   "cell_type": "code",
   "execution_count": 6,
   "metadata": {},
   "outputs": [
    {
     "data": {
      "text/html": [
       "<div>\n",
       "<style scoped>\n",
       "    .dataframe tbody tr th:only-of-type {\n",
       "        vertical-align: middle;\n",
       "    }\n",
       "\n",
       "    .dataframe tbody tr th {\n",
       "        vertical-align: top;\n",
       "    }\n",
       "\n",
       "    .dataframe thead th {\n",
       "        text-align: right;\n",
       "    }\n",
       "</style>\n",
       "<table border=\"1\" class=\"dataframe\">\n",
       "  <thead>\n",
       "    <tr style=\"text-align: right;\">\n",
       "      <th></th>\n",
       "      <th>doc_id</th>\n",
       "      <th>title</th>\n",
       "      <th>mainText</th>\n",
       "      <th>orientation</th>\n",
       "    </tr>\n",
       "  </thead>\n",
       "  <tbody>\n",
       "    <tr>\n",
       "      <th>0</th>\n",
       "      <td>930</td>\n",
       "      <td>Jerry Springer Just Summed Up Trump’s Debate W...</td>\n",
       "      <td>Millions of people tuned in Monday night to wa...</td>\n",
       "      <td>left</td>\n",
       "    </tr>\n",
       "    <tr>\n",
       "      <th>1</th>\n",
       "      <td>1390</td>\n",
       "      <td>Clinton Campaign Charges College Students $500...</td>\n",
       "      <td>The Clintons understand the average American. ...</td>\n",
       "      <td>right</td>\n",
       "    </tr>\n",
       "    <tr>\n",
       "      <th>2</th>\n",
       "      <td>1384</td>\n",
       "      <td>Migrant Reveals Sick Reason He Left…’to F*ck t...</td>\n",
       "      <td>Harassment is known in Arabic as ‘taharrush’. ...</td>\n",
       "      <td>right</td>\n",
       "    </tr>\n",
       "    <tr>\n",
       "      <th>3</th>\n",
       "      <td>924</td>\n",
       "      <td>Trump Said Obama Gave Iran “$150 Billion.” He ...</td>\n",
       "      <td>Democratic President Barack Obama pulled off a...</td>\n",
       "      <td>left</td>\n",
       "    </tr>\n",
       "    <tr>\n",
       "      <th>4</th>\n",
       "      <td>918</td>\n",
       "      <td>Hillary Accused Trump Of Calling Climate Chang...</td>\n",
       "      <td>Democratic nominee Hillary Clinton knows her f...</td>\n",
       "      <td>left</td>\n",
       "    </tr>\n",
       "  </tbody>\n",
       "</table>\n",
       "</div>"
      ],
      "text/plain": [
       "   doc_id                                              title  \\\n",
       "0     930  Jerry Springer Just Summed Up Trump’s Debate W...   \n",
       "1    1390  Clinton Campaign Charges College Students $500...   \n",
       "2    1384  Migrant Reveals Sick Reason He Left…’to F*ck t...   \n",
       "3     924  Trump Said Obama Gave Iran “$150 Billion.” He ...   \n",
       "4     918  Hillary Accused Trump Of Calling Climate Chang...   \n",
       "\n",
       "                                            mainText orientation  \n",
       "0  Millions of people tuned in Monday night to wa...        left  \n",
       "1  The Clintons understand the average American. ...       right  \n",
       "2  Harassment is known in Arabic as ‘taharrush’. ...       right  \n",
       "3  Democratic President Barack Obama pulled off a...        left  \n",
       "4  Democratic nominee Hillary Clinton knows her f...        left  "
      ]
     },
     "execution_count": 6,
     "metadata": {},
     "output_type": "execute_result"
    }
   ],
   "source": [
    "df.head()"
   ]
  },
  {
   "cell_type": "code",
   "execution_count": 8,
   "metadata": {},
   "outputs": [],
   "source": [
    "df['orientation']=df['orientation'].replace(['left','right'], 'True')\n",
    "df['orientation']=df['orientation'].replace(['mainstream'], 'False')"
   ]
  },
  {
   "cell_type": "code",
   "execution_count": 10,
   "metadata": {},
   "outputs": [],
   "source": [
    "df.columns = ['doc_id','title','mainText','hyperpartisan']"
   ]
  },
  {
   "cell_type": "code",
   "execution_count": 11,
   "metadata": {},
   "outputs": [
    {
     "data": {
      "text/html": [
       "<div>\n",
       "<style scoped>\n",
       "    .dataframe tbody tr th:only-of-type {\n",
       "        vertical-align: middle;\n",
       "    }\n",
       "\n",
       "    .dataframe tbody tr th {\n",
       "        vertical-align: top;\n",
       "    }\n",
       "\n",
       "    .dataframe thead th {\n",
       "        text-align: right;\n",
       "    }\n",
       "</style>\n",
       "<table border=\"1\" class=\"dataframe\">\n",
       "  <thead>\n",
       "    <tr style=\"text-align: right;\">\n",
       "      <th></th>\n",
       "      <th>doc_id</th>\n",
       "      <th>title</th>\n",
       "      <th>mainText</th>\n",
       "      <th>hyperpartisan</th>\n",
       "    </tr>\n",
       "  </thead>\n",
       "  <tbody>\n",
       "    <tr>\n",
       "      <th>0</th>\n",
       "      <td>930</td>\n",
       "      <td>Jerry Springer Just Summed Up Trump’s Debate W...</td>\n",
       "      <td>Millions of people tuned in Monday night to wa...</td>\n",
       "      <td>True</td>\n",
       "    </tr>\n",
       "    <tr>\n",
       "      <th>1</th>\n",
       "      <td>1390</td>\n",
       "      <td>Clinton Campaign Charges College Students $500...</td>\n",
       "      <td>The Clintons understand the average American. ...</td>\n",
       "      <td>True</td>\n",
       "    </tr>\n",
       "    <tr>\n",
       "      <th>2</th>\n",
       "      <td>1384</td>\n",
       "      <td>Migrant Reveals Sick Reason He Left…’to F*ck t...</td>\n",
       "      <td>Harassment is known in Arabic as ‘taharrush’. ...</td>\n",
       "      <td>True</td>\n",
       "    </tr>\n",
       "    <tr>\n",
       "      <th>3</th>\n",
       "      <td>924</td>\n",
       "      <td>Trump Said Obama Gave Iran “$150 Billion.” He ...</td>\n",
       "      <td>Democratic President Barack Obama pulled off a...</td>\n",
       "      <td>True</td>\n",
       "    </tr>\n",
       "    <tr>\n",
       "      <th>4</th>\n",
       "      <td>918</td>\n",
       "      <td>Hillary Accused Trump Of Calling Climate Chang...</td>\n",
       "      <td>Democratic nominee Hillary Clinton knows her f...</td>\n",
       "      <td>True</td>\n",
       "    </tr>\n",
       "  </tbody>\n",
       "</table>\n",
       "</div>"
      ],
      "text/plain": [
       "   doc_id                                              title  \\\n",
       "0     930  Jerry Springer Just Summed Up Trump’s Debate W...   \n",
       "1    1390  Clinton Campaign Charges College Students $500...   \n",
       "2    1384  Migrant Reveals Sick Reason He Left…’to F*ck t...   \n",
       "3     924  Trump Said Obama Gave Iran “$150 Billion.” He ...   \n",
       "4     918  Hillary Accused Trump Of Calling Climate Chang...   \n",
       "\n",
       "                                            mainText hyperpartisan  \n",
       "0  Millions of people tuned in Monday night to wa...          True  \n",
       "1  The Clintons understand the average American. ...          True  \n",
       "2  Harassment is known in Arabic as ‘taharrush’. ...          True  \n",
       "3  Democratic President Barack Obama pulled off a...          True  \n",
       "4  Democratic nominee Hillary Clinton knows her f...          True  "
      ]
     },
     "execution_count": 11,
     "metadata": {},
     "output_type": "execute_result"
    }
   ],
   "source": [
    "df.head()"
   ]
  },
  {
   "cell_type": "code",
   "execution_count": 12,
   "metadata": {},
   "outputs": [
    {
     "data": {
      "text/plain": [
       "doc_id            0\n",
       "title            31\n",
       "mainText         23\n",
       "hyperpartisan     0\n",
       "dtype: int64"
      ]
     },
     "execution_count": 12,
     "metadata": {},
     "output_type": "execute_result"
    }
   ],
   "source": [
    "df.isnull().sum()"
   ]
  },
  {
   "cell_type": "code",
   "execution_count": 13,
   "metadata": {},
   "outputs": [],
   "source": [
    "df_no_missing = df.dropna(subset=['mainText', 'title'])\n",
    "df_no_missing = df_no_missing.reset_index(drop=True)"
   ]
  },
  {
   "cell_type": "code",
   "execution_count": 14,
   "metadata": {},
   "outputs": [
    {
     "data": {
      "text/plain": [
       "1590"
      ]
     },
     "execution_count": 14,
     "metadata": {},
     "output_type": "execute_result"
    }
   ],
   "source": [
    "len(df_no_missing)"
   ]
  },
  {
   "cell_type": "markdown",
   "metadata": {},
   "source": [
    "# SemEval"
   ]
  },
  {
   "cell_type": "code",
   "execution_count": 16,
   "metadata": {},
   "outputs": [
    {
     "data": {
      "text/html": [
       "<div>\n",
       "<style scoped>\n",
       "    .dataframe tbody tr th:only-of-type {\n",
       "        vertical-align: middle;\n",
       "    }\n",
       "\n",
       "    .dataframe tbody tr th {\n",
       "        vertical-align: top;\n",
       "    }\n",
       "\n",
       "    .dataframe thead th {\n",
       "        text-align: right;\n",
       "    }\n",
       "</style>\n",
       "<table border=\"1\" class=\"dataframe\">\n",
       "  <thead>\n",
       "    <tr style=\"text-align: right;\">\n",
       "      <th></th>\n",
       "      <th>doc_id</th>\n",
       "      <th>title</th>\n",
       "      <th>mainText</th>\n",
       "      <th>hyperpartisan</th>\n",
       "    </tr>\n",
       "  </thead>\n",
       "  <tbody>\n",
       "    <tr>\n",
       "      <th>0</th>\n",
       "      <td>0</td>\n",
       "      <td>Kucinich: Reclaiming the money power</td>\n",
       "      <td>Money ( Image by 401(K) 2013) Permission Detai...</td>\n",
       "      <td>True</td>\n",
       "    </tr>\n",
       "    <tr>\n",
       "      <th>1</th>\n",
       "      <td>1</td>\n",
       "      <td>Trump Just Woke Up &amp; Viciously Attacked Puerto...</td>\n",
       "      <td>Donald Trump ran on many braggadocios and larg...</td>\n",
       "      <td>True</td>\n",
       "    </tr>\n",
       "    <tr>\n",
       "      <th>2</th>\n",
       "      <td>2</td>\n",
       "      <td>Liberals wailing about gun control, but what a...</td>\n",
       "      <td>In response to Joyce Newman’s recent letter ab...</td>\n",
       "      <td>True</td>\n",
       "    </tr>\n",
       "    <tr>\n",
       "      <th>3</th>\n",
       "      <td>3</td>\n",
       "      <td>Laremy Tunsil joins NFL players in kneeling du...</td>\n",
       "      <td>After Colin Kaepernick rightly chose to kneel ...</td>\n",
       "      <td>True</td>\n",
       "    </tr>\n",
       "    <tr>\n",
       "      <th>4</th>\n",
       "      <td>4</td>\n",
       "      <td>It's 1968 All Over Again</td>\n",
       "      <td>Almost a half-century ago, in 1968, the United...</td>\n",
       "      <td>False</td>\n",
       "    </tr>\n",
       "  </tbody>\n",
       "</table>\n",
       "</div>"
      ],
      "text/plain": [
       "   doc_id                                              title  \\\n",
       "0       0               Kucinich: Reclaiming the money power   \n",
       "1       1  Trump Just Woke Up & Viciously Attacked Puerto...   \n",
       "2       2  Liberals wailing about gun control, but what a...   \n",
       "3       3  Laremy Tunsil joins NFL players in kneeling du...   \n",
       "4       4                           It's 1968 All Over Again   \n",
       "\n",
       "                                            mainText  hyperpartisan  \n",
       "0  Money ( Image by 401(K) 2013) Permission Detai...           True  \n",
       "1  Donald Trump ran on many braggadocios and larg...           True  \n",
       "2  In response to Joyce Newman’s recent letter ab...           True  \n",
       "3  After Colin Kaepernick rightly chose to kneel ...           True  \n",
       "4  Almost a half-century ago, in 1968, the United...          False  "
      ]
     },
     "execution_count": 16,
     "metadata": {},
     "output_type": "execute_result"
    }
   ],
   "source": [
    "df_s = pd.read_csv('SemEval.csv')\n",
    "df_s.head()"
   ]
  },
  {
   "cell_type": "code",
   "execution_count": 18,
   "metadata": {},
   "outputs": [
    {
     "data": {
      "text/plain": [
       "doc_id           0\n",
       "title            0\n",
       "mainText         0\n",
       "hyperpartisan    0\n",
       "dtype: int64"
      ]
     },
     "execution_count": 18,
     "metadata": {},
     "output_type": "execute_result"
    }
   ],
   "source": [
    "df_s.isnull().sum()"
   ]
  },
  {
   "cell_type": "code",
   "execution_count": 19,
   "metadata": {},
   "outputs": [
    {
     "data": {
      "text/html": [
       "<div>\n",
       "<style scoped>\n",
       "    .dataframe tbody tr th:only-of-type {\n",
       "        vertical-align: middle;\n",
       "    }\n",
       "\n",
       "    .dataframe tbody tr th {\n",
       "        vertical-align: top;\n",
       "    }\n",
       "\n",
       "    .dataframe thead th {\n",
       "        text-align: right;\n",
       "    }\n",
       "</style>\n",
       "<table border=\"1\" class=\"dataframe\">\n",
       "  <thead>\n",
       "    <tr style=\"text-align: right;\">\n",
       "      <th></th>\n",
       "      <th>doc_id</th>\n",
       "      <th>title</th>\n",
       "      <th>mainText</th>\n",
       "      <th>hyperpartisan</th>\n",
       "    </tr>\n",
       "  </thead>\n",
       "  <tbody>\n",
       "    <tr>\n",
       "      <th>0</th>\n",
       "      <td>0</td>\n",
       "      <td>Jerry Springer Just Summed Up Trump’s Debate W...</td>\n",
       "      <td>Millions of people tuned in Monday night to wa...</td>\n",
       "      <td>True</td>\n",
       "    </tr>\n",
       "    <tr>\n",
       "      <th>1</th>\n",
       "      <td>1</td>\n",
       "      <td>Clinton Campaign Charges College Students $500...</td>\n",
       "      <td>The Clintons understand the average American. ...</td>\n",
       "      <td>True</td>\n",
       "    </tr>\n",
       "    <tr>\n",
       "      <th>2</th>\n",
       "      <td>2</td>\n",
       "      <td>Migrant Reveals Sick Reason He Left…’to F*ck t...</td>\n",
       "      <td>Harassment is known in Arabic as ‘taharrush’. ...</td>\n",
       "      <td>True</td>\n",
       "    </tr>\n",
       "    <tr>\n",
       "      <th>3</th>\n",
       "      <td>3</td>\n",
       "      <td>Trump Said Obama Gave Iran “$150 Billion.” He ...</td>\n",
       "      <td>Democratic President Barack Obama pulled off a...</td>\n",
       "      <td>True</td>\n",
       "    </tr>\n",
       "    <tr>\n",
       "      <th>4</th>\n",
       "      <td>4</td>\n",
       "      <td>Hillary Accused Trump Of Calling Climate Chang...</td>\n",
       "      <td>Democratic nominee Hillary Clinton knows her f...</td>\n",
       "      <td>True</td>\n",
       "    </tr>\n",
       "  </tbody>\n",
       "</table>\n",
       "</div>"
      ],
      "text/plain": [
       "   doc_id                                              title  \\\n",
       "0       0  Jerry Springer Just Summed Up Trump’s Debate W...   \n",
       "1       1  Clinton Campaign Charges College Students $500...   \n",
       "2       2  Migrant Reveals Sick Reason He Left…’to F*ck t...   \n",
       "3       3  Trump Said Obama Gave Iran “$150 Billion.” He ...   \n",
       "4       4  Hillary Accused Trump Of Calling Climate Chang...   \n",
       "\n",
       "                                            mainText hyperpartisan  \n",
       "0  Millions of people tuned in Monday night to wa...          True  \n",
       "1  The Clintons understand the average American. ...          True  \n",
       "2  Harassment is known in Arabic as ‘taharrush’. ...          True  \n",
       "3  Democratic President Barack Obama pulled off a...          True  \n",
       "4  Democratic nominee Hillary Clinton knows her f...          True  "
      ]
     },
     "execution_count": 19,
     "metadata": {},
     "output_type": "execute_result"
    }
   ],
   "source": [
    "frames = [df_no_missing, df_s]\n",
    "df = pd.concat(frames, ignore_index=True)\n",
    "df[\"doc_id\"] = df.index\n",
    "df.head()"
   ]
  },
  {
   "cell_type": "code",
   "execution_count": 20,
   "metadata": {},
   "outputs": [
    {
     "data": {
      "text/plain": [
       "2234"
      ]
     },
     "execution_count": 20,
     "metadata": {},
     "output_type": "execute_result"
    }
   ],
   "source": [
    "len(df)"
   ]
  },
  {
   "cell_type": "code",
   "execution_count": 22,
   "metadata": {},
   "outputs": [],
   "source": [
    "df.to_csv(\"hyper_news_meta.csv\",index=False)"
   ]
  },
  {
   "cell_type": "code",
   "execution_count": null,
   "metadata": {},
   "outputs": [],
   "source": []
  }
 ],
 "metadata": {
  "kernelspec": {
   "display_name": "Python 3",
   "language": "python",
   "name": "python3"
  },
  "language_info": {
   "codemirror_mode": {
    "name": "ipython",
    "version": 3
   },
   "file_extension": ".py",
   "mimetype": "text/x-python",
   "name": "python",
   "nbconvert_exporter": "python",
   "pygments_lexer": "ipython3",
   "version": "3.6.8"
  }
 },
 "nbformat": 4,
 "nbformat_minor": 2
}
